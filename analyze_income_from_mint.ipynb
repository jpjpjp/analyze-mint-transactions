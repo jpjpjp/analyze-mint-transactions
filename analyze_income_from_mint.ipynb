{
 "cells": [
  {
   "cell_type": "code",
   "execution_count": null,
   "metadata": {},
   "outputs": [],
   "source": [
    "# This notebook will take an export of raw mint transaction data and extract\n",
    "# just the income data found therein, adding a spending group to each transaction.\n",
    "#\n",
    "# From this data it will then generate detailed spending by category for each year of data found\n",
    "# and then use the averages to predict future year and retirement spending needs.\n",
    "#\n",
    "# Finally a detailed report of year of year spending by category will be generated for each\n",
    "# spending troup\n",
    "\n",
    "# This first cell sets configuration variable that will be used herein\n",
    "\n",
    "\n",
    "#################\n",
    "# Input Files - where to read source data and configuration files\n",
    "#################\n",
    "# File with raw mint transaction data\n",
    "PATH_TO_YOUR_TRANSACTIONS = \"transactions.csv\"\n",
    "\n",
    "# Input file describing which categories to group into which larger spending categories\n",
    "# This is a CSV where the first row in each column is the name of a \"Spending Group\"\n",
    "# The mint categories that belongs to each Spending Group are in listed in each column\n",
    "# Categories not assigned to a group will be assigned a Spending Group that matches the Category\n",
    "# See mint-spending-groups-template.csv for an example\n",
    "PATH_TO_SPENDING_GROUPS = \"./mint-spending-groups.csv\"\n",
    "\n",
    "# Input file describing Mint categories to exclude from spending analysis\n",
    "# This is a CSV file that describes the Spending Groups whose transctions will be removed\n",
    "# from the spending data.  This is typically Spendign Groups that have some credits\n",
    "# but shouldn't be considered as income, such as Credit Card Payments, Transfer or \n",
    "# or potentially categories that are used to track reimbursable business expenses\n",
    "PATH_TO_GROUPS_TO_EXCLUDE_FROM_INCOME = \"./exclude-from-income-groups.csv\"\n",
    "\n",
    "#################\n",
    "# Configuration  - define which data to ignore when predicting future spending needs\n",
    "#################\n",
    "\n",
    "# Set this to skip data from old or imcomplete years\n",
    "IGNORE_YEARS_BEFORE = 2014\n",
    "\n",
    "\n",
    "#################\n",
    "# Output Files  - define where generated files should be written to\n",
    "#################\n",
    "# Output file of just the transactions that generated net income\n",
    "OUTPUT_INCOME_DATA = 'income.csv'\n",
    "\n",
    "# Output file of the summarized income by category\n",
    "OUTPUT_INCOME_BY_SPENDING_BY_GROUP = 'group_income.csv'\n",
    "\n",
    "\n"
   ]
  },
  {
   "cell_type": "code",
   "execution_count": null,
   "metadata": {},
   "outputs": [],
   "source": [
    "# Read in the dependencies\n",
    "import pandas as pd\n",
    "import sys\n",
    "import webbrowser\n",
    "import os"
   ]
  },
  {
   "cell_type": "code",
   "execution_count": null,
   "metadata": {},
   "outputs": [],
   "source": [
    "import extract_spending_data_methods as esd\n",
    "\n",
    "# Read the raw mint transaction data into a dataframe\n",
    "parse_dates = ['Date']\n",
    "try:\n",
    "    df = pd.read_csv(PATH_TO_YOUR_TRANSACTIONS, parse_dates=parse_dates)\n",
    "    df.set_index(['Date'], inplace=True)\n",
    "    df['Amount'] = df['Amount'].astype(float)\n",
    "except BaseException as e:\n",
    "    print('Failed to read mint transaction data: {}'.format(e))\n",
    "    sys.exit(-1)\n",
    "\n",
    "\n",
    "## Run through the transaction list from mint and add a Spending Group column\n",
    "# Set the final parameter to True to get some output about which categories are being assigned to which group\n",
    "try:\n",
    "    df = esd.group_categories(df, PATH_TO_SPENDING_GROUPS, show_group_details=False)\n",
    "except BaseException as e:\n",
    "    sys.exit(-1)\n"
   ]
  },
  {
   "cell_type": "code",
   "execution_count": null,
   "metadata": {},
   "outputs": [],
   "source": [
    "## Create a Dataframe for each year of transaction data, \n",
    "# For each year find the categories that generated net income and keep them\n",
    "all_df = pd.DataFrame()\n",
    "for year in df.index.year.unique():        \n",
    "    # Extract a years worth of spending data from the transaction data    \n",
    "    # This will remove all transactions in Spending Groups defined in PATH_TO_GROUPS_TO_EXCLUDE\n",
    "    # Generally these categories represent income or transactions like Credit Card Payments\n",
    "    from_date = str(year-1) + '-12-31'\n",
    "    to_date = str(year+1) + '-01-01'\n",
    "    year_df = esd.extract_income(df, PATH_TO_GROUPS_TO_EXCLUDE_FROM_INCOME, from_date, to_date)\n",
    "    \n",
    "    # Add the years spending data to a running total dataframe\n",
    "    column_title = str(year)+' Amount'\n",
    "    if all_df.empty:\n",
    "        all_df = year_df\n",
    "        all_df.rename(columns={'Amount': column_title}, inplace=True)\n",
    "    else:\n",
    "        year_df.rename(columns={'Amount': column_title}, inplace=True)\n",
    "        all_df =pd.concat([year_df, all_df])\n",
    "    "
   ]
  },
  {
   "cell_type": "code",
   "execution_count": null,
   "metadata": {},
   "outputs": [],
   "source": [
    "\n",
    "# Write the raw income transaction data to disk as a csv\n",
    "all_df.to_csv(OUTPUT_INCOME_DATA)\n",
    "# Summarize income by category, by year\n",
    "income = all_df.groupby(['Spending Group']).sum()\n",
    "income.to_csv(OUTPUT_INCOME_BY_SPENDING_BY_GROUP)"
   ]
  },
  {
   "cell_type": "code",
   "execution_count": null,
   "metadata": {},
   "outputs": [],
   "source": [
    "# Visualize the income for each year of data found\n",
    "import visualization_methods as vms\n",
    "\n",
    "# Create a dataframe from the annual income by group data file\n",
    "df = vms.read_structured_transactions(OUTPUT_INCOME_BY_SPENDING_BY_GROUP, \\\n",
    "    PATH_TO_YOUR_TRANSACTIONS, 'Spending Group', \\\n",
    "    'summarized income group data')\n",
    "\n",
    "# year over year visualizations we may have different categories each year\n",
    "# Create an assigned color for each category so the colors are consistent\n",
    "colors = vms.assign_colors_to_groups(df)\n",
    "\n",
    "# Iterate through the columns which are formatted \"YEAR Amount\"\n",
    "for col in df.columns:  \n",
    "    year = col.split(' ', 1)[0]\n",
    "    # Ignore years with dirty or incomplete data\n",
    "    if int(year) < IGNORE_YEARS_BEFORE:\n",
    "        continue\n",
    "        \n",
    "    year_df = df[year+' Amount']\n",
    "    if not len(year_df):\n",
    "        print('No data found for '+year)\n",
    "        continue\n",
    "    vms.visualize_expenses_by_group(year, year_df, colors, spending=False)\n"
   ]
  },
  {
   "cell_type": "code",
   "execution_count": null,
   "metadata": {},
   "outputs": [],
   "source": [
    "# Build a \"summary\" dataframe that we can visulize as a table\n",
    "sum_df = vms.build_summary_table(df)\n",
    "display(sum_df)"
   ]
  },
  {
   "cell_type": "code",
   "execution_count": null,
   "metadata": {},
   "outputs": [],
   "source": [
    "# Loop through each of the spending groups and show the year over year details\n",
    "import pandas as pd\n",
    "pd.options.display.float_format = '{:,.2f}'.format\n",
    "for group in sorted(all_df['Spending Group'].unique()):\n",
    "    group_df = vms.build_category_details(all_df, group)\n",
    "    print('Details for ' + group + ' Income')\n",
    "    display(group_df)\n",
    "    \n"
   ]
  },
  {
   "cell_type": "code",
   "execution_count": null,
   "metadata": {},
   "outputs": [],
   "source": []
  }
 ],
 "metadata": {
  "kernelspec": {
   "display_name": "Python 3",
   "language": "python",
   "name": "python3"
  },
  "language_info": {
   "codemirror_mode": {
    "name": "ipython",
    "version": 3
   },
   "file_extension": ".py",
   "mimetype": "text/x-python",
   "name": "python",
   "nbconvert_exporter": "python",
   "pygments_lexer": "ipython3",
   "version": "3.9.1"
  }
 },
 "nbformat": 4,
 "nbformat_minor": 1
}
